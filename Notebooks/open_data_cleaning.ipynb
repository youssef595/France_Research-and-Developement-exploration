{
 "cells": [
  {
   "cell_type": "markdown",
   "metadata": {},
   "source": [
    "### ScanR open data : contains the IDS and Code NAF sector of french structures involved in R&D or innovation\n",
    "* https://scanr.enseignementsup-recherche.gouv.fr/opendata\n",
    "### ScanR API : contains spectif R&D data organized in different segments (structure, scientific publication...)\n",
    "* https://scanr-api.enseignementsup-recherche.gouv.fr/api/swagger-ui.html#/"
   ]
  },
  {
   "cell_type": "markdown",
   "metadata": {},
   "source": [
    "### The objectives are :\n",
    "* crawl specific R&D and innovation features for the accounts registered in SCANR and turn it into structured data\n",
    "* Quantify the presence of client accounts in SCANR data \n",
    "* Determine the accounts that present R&D potentiel with eligibility to CIR and do not figure in salesforce data\n",
    "* Exploratory data analysis\n",
    "* Cluster the R&D and innovation accounts"
   ]
  },
  {
   "cell_type": "code",
   "execution_count": 31,
   "metadata": {},
   "outputs": [],
   "source": [
    "import pandas as pd\n",
    "import numpy as np\n",
    "\n",
    "import plotly.express as px\n",
    "import plotly.graph_objs as go\n",
    "from plotly.subplots import make_subplots\n",
    "\n",
    "import warnings\n",
    "warnings.filterwarnings(\"ignore\")"
   ]
  },
  {
   "cell_type": "markdown",
   "metadata": {},
   "source": [
    "* http://data-bzh.fr/etablissements-publics-prives-impliques-recherche-developpement/"
   ]
  },
  {
   "cell_type": "code",
   "execution_count": 32,
   "metadata": {},
   "outputs": [
    {
     "data": {
      "text/html": [
       "<div>\n",
       "<style scoped>\n",
       "    .dataframe tbody tr th:only-of-type {\n",
       "        vertical-align: middle;\n",
       "    }\n",
       "\n",
       "    .dataframe tbody tr th {\n",
       "        vertical-align: top;\n",
       "    }\n",
       "\n",
       "    .dataframe thead th {\n",
       "        text-align: right;\n",
       "    }\n",
       "</style>\n",
       "<table border=\"1\" class=\"dataframe\">\n",
       "  <thead>\n",
       "    <tr style=\"text-align: right;\">\n",
       "      <th></th>\n",
       "      <th>siren</th>\n",
       "      <th>siret</th>\n",
       "      <th>libellé</th>\n",
       "      <th>sigle</th>\n",
       "      <th>siret siège</th>\n",
       "      <th>date de création</th>\n",
       "      <th>code de catégorie</th>\n",
       "      <th>catégorie</th>\n",
       "      <th>code ape</th>\n",
       "      <th>libellé ape</th>\n",
       "      <th>...</th>\n",
       "      <th>département</th>\n",
       "      <th>code de la région</th>\n",
       "      <th>région</th>\n",
       "      <th>code du pays</th>\n",
       "      <th>pays</th>\n",
       "      <th>géolocalisation</th>\n",
       "      <th>code de badge</th>\n",
       "      <th>badge</th>\n",
       "      <th>code de la région (avant 2016)</th>\n",
       "      <th>région (avant 2016)</th>\n",
       "    </tr>\n",
       "  </thead>\n",
       "  <tbody>\n",
       "    <tr>\n",
       "      <th>0</th>\n",
       "      <td>526020482</td>\n",
       "      <td>NaN</td>\n",
       "      <td>HUCHEZ TREUILS</td>\n",
       "      <td>NaN</td>\n",
       "      <td>5.260205e+13</td>\n",
       "      <td>1960-01-01</td>\n",
       "      <td>PME</td>\n",
       "      <td>Petite ou moyenne entreprise</td>\n",
       "      <td>2822Z</td>\n",
       "      <td>Fabrication de matériel de levage et de manute...</td>\n",
       "      <td>...</td>\n",
       "      <td>Oise</td>\n",
       "      <td>32.0</td>\n",
       "      <td>Nord-Pas-de-Calais - Picardie</td>\n",
       "      <td>NaN</td>\n",
       "      <td>NaN</td>\n",
       "      <td>49.589934,2.518701</td>\n",
       "      <td>brevets</td>\n",
       "      <td>Déposant de brevet (base de l'INPI)</td>\n",
       "      <td>22.0</td>\n",
       "      <td>Picardie</td>\n",
       "    </tr>\n",
       "    <tr>\n",
       "      <th>1</th>\n",
       "      <td>508178381</td>\n",
       "      <td>NaN</td>\n",
       "      <td>DEVOLDER LAURENCE-LOLA</td>\n",
       "      <td>NaN</td>\n",
       "      <td>5.081784e+13</td>\n",
       "      <td>2008-10-01</td>\n",
       "      <td>MICRO</td>\n",
       "      <td>Micro-entreprise</td>\n",
       "      <td>7220Z</td>\n",
       "      <td>Recherche-développement en sciences humaines e...</td>\n",
       "      <td>...</td>\n",
       "      <td>Haute-Garonne</td>\n",
       "      <td>76.0</td>\n",
       "      <td>Languedoc-Roussillon - Midi-Pyrénées</td>\n",
       "      <td>NaN</td>\n",
       "      <td>NaN</td>\n",
       "      <td>43.5822,1.444889</td>\n",
       "      <td>NaN</td>\n",
       "      <td>NaN</td>\n",
       "      <td>73.0</td>\n",
       "      <td>Midi-Pyrénées</td>\n",
       "    </tr>\n",
       "  </tbody>\n",
       "</table>\n",
       "<p>2 rows × 44 columns</p>\n",
       "</div>"
      ],
      "text/plain": [
       "       siren  siret                 libellé sigle   siret siège  \\\n",
       "0  526020482    NaN          HUCHEZ TREUILS   NaN  5.260205e+13   \n",
       "1  508178381    NaN  DEVOLDER LAURENCE-LOLA   NaN  5.081784e+13   \n",
       "\n",
       "  date de création code de catégorie                     catégorie code ape  \\\n",
       "0       1960-01-01               PME  Petite ou moyenne entreprise    2822Z   \n",
       "1       2008-10-01             MICRO              Micro-entreprise    7220Z   \n",
       "\n",
       "                                         libellé ape  ...    département  \\\n",
       "0  Fabrication de matériel de levage et de manute...  ...           Oise   \n",
       "1  Recherche-développement en sciences humaines e...  ...  Haute-Garonne   \n",
       "\n",
       "  code de la région                                région  code du pays pays  \\\n",
       "0              32.0         Nord-Pas-de-Calais - Picardie           NaN  NaN   \n",
       "1              76.0  Languedoc-Roussillon - Midi-Pyrénées           NaN  NaN   \n",
       "\n",
       "      géolocalisation code de badge                                badge  \\\n",
       "0  49.589934,2.518701       brevets  Déposant de brevet (base de l'INPI)   \n",
       "1    43.5822,1.444889           NaN                                  NaN   \n",
       "\n",
       "  code de la région (avant 2016) région (avant 2016)  \n",
       "0                           22.0            Picardie  \n",
       "1                           73.0       Midi-Pyrénées  \n",
       "\n",
       "[2 rows x 44 columns]"
      ]
     },
     "execution_count": 32,
     "metadata": {},
     "output_type": "execute_result"
    }
   ],
   "source": [
    "df = pd.read_csv('../Data/scanr/open/entreprise_RD.csv',delimiter=';', decimal=',',parse_dates=['Date de création'])\n",
    "df.columns = df.columns.str.lower()\n",
    "df.head(2)"
   ]
  },
  {
   "cell_type": "code",
   "execution_count": 33,
   "metadata": {},
   "outputs": [
    {
     "data": {
      "application/vnd.plotly.v1+json": {
       "config": {
        "plotlyServerURL": "https://plot.ly"
       },
       "data": [
        {
         "mode": "markers+lines",
         "name": "Pourcentage des valeurs manquantes par colonne",
         "type": "scatter",
         "x": [
          "siren",
          "siret",
          "libellé",
          "sigle",
          "siret siège",
          "date de création",
          "code de catégorie",
          "catégorie",
          "code ape",
          "libellé ape",
          "code de tranche etp",
          "tranche etp",
          "chiffre d'affaire 2014",
          "code de catégorie juridique",
          "catégorie juridique",
          "code uai",
          "wikidata",
          "site web",
          "scanr",
          "wikipedia",
          "url d'établissement d'enseignement supérieur",
          "numéro de voie",
          "bis ou ter",
          "type de voie",
          "libellé de voie",
          "complément d'adresse",
          "code postal",
          "bureau distributeur",
          "adresse",
          "code commune",
          "commune",
          "code d'unité urbaine",
          "unité urbaine",
          "code du département",
          "département",
          "code de la région",
          "région",
          "code du pays",
          "pays",
          "géolocalisation",
          "code de badge",
          "badge",
          "code de la région (avant 2016)",
          "région (avant 2016)"
         ],
         "y": [
          0,
          0.999118247633191,
          0,
          0.8726563950250603,
          0.004223129756821979,
          0.021208464822721367,
          0,
          0,
          0.0003248561351401522,
          0.0003248561351401522,
          0.003434193428624466,
          0.31975125301652124,
          0.2163541860033414,
          0.0017635047336179693,
          0.0017635047336179693,
          0.9821793205865974,
          0.9840356413588268,
          0.5362446630777798,
          0,
          0.9840356413588268,
          0.9905327640616298,
          0.1827547800259885,
          0.9674215704473733,
          0.11388527937627622,
          0.017263783181733803,
          0.6655838128828662,
          0.010024132170038983,
          0.9380917022461481,
          0.9966122145906813,
          0,
          0.005986634490439948,
          0.10056617783552999,
          0.10056617783552999,
          0.006868386857248932,
          0.006868386857248932,
          0.006868386857248932,
          0.006868386857248932,
          0.9931316131427511,
          0.9931316131427511,
          0,
          0.3887599777241507,
          0.3887599777241507,
          0.006868386857248932,
          0.006868386857248932
         ]
        },
        {
         "line": {
          "dash": "dot"
         },
         "name": "Seuil",
         "type": "scatter",
         "x": [
          "siren",
          "siret",
          "libellé",
          "sigle",
          "siret siège",
          "date de création",
          "code de catégorie",
          "catégorie",
          "code ape",
          "libellé ape",
          "code de tranche etp",
          "tranche etp",
          "chiffre d'affaire 2014",
          "code de catégorie juridique",
          "catégorie juridique",
          "code uai",
          "wikidata",
          "site web",
          "scanr",
          "wikipedia",
          "url d'établissement d'enseignement supérieur",
          "numéro de voie",
          "bis ou ter",
          "type de voie",
          "libellé de voie",
          "complément d'adresse",
          "code postal",
          "bureau distributeur",
          "adresse",
          "code commune",
          "commune",
          "code d'unité urbaine",
          "unité urbaine",
          "code du département",
          "département",
          "code de la région",
          "région",
          "code du pays",
          "pays",
          "géolocalisation",
          "code de badge",
          "badge",
          "code de la région (avant 2016)",
          "région (avant 2016)"
         ],
         "y": [
          0.8,
          0.8,
          0.8,
          0.8,
          0.8,
          0.8,
          0.8,
          0.8,
          0.8,
          0.8,
          0.8,
          0.8,
          0.8,
          0.8,
          0.8,
          0.8,
          0.8,
          0.8,
          0.8,
          0.8,
          0.8,
          0.8,
          0.8,
          0.8,
          0.8,
          0.8,
          0.8,
          0.8,
          0.8,
          0.8,
          0.8,
          0.8,
          0.8,
          0.8,
          0.8,
          0.8,
          0.8,
          0.8,
          0.8,
          0.8,
          0.8,
          0.8,
          0.8,
          0.8
         ]
        }
       ],
       "layout": {
        "template": {
         "data": {
          "bar": [
           {
            "error_x": {
             "color": "#2a3f5f"
            },
            "error_y": {
             "color": "#2a3f5f"
            },
            "marker": {
             "line": {
              "color": "#E5ECF6",
              "width": 0.5
             },
             "pattern": {
              "fillmode": "overlay",
              "size": 10,
              "solidity": 0.2
             }
            },
            "type": "bar"
           }
          ],
          "barpolar": [
           {
            "marker": {
             "line": {
              "color": "#E5ECF6",
              "width": 0.5
             },
             "pattern": {
              "fillmode": "overlay",
              "size": 10,
              "solidity": 0.2
             }
            },
            "type": "barpolar"
           }
          ],
          "carpet": [
           {
            "aaxis": {
             "endlinecolor": "#2a3f5f",
             "gridcolor": "white",
             "linecolor": "white",
             "minorgridcolor": "white",
             "startlinecolor": "#2a3f5f"
            },
            "baxis": {
             "endlinecolor": "#2a3f5f",
             "gridcolor": "white",
             "linecolor": "white",
             "minorgridcolor": "white",
             "startlinecolor": "#2a3f5f"
            },
            "type": "carpet"
           }
          ],
          "choropleth": [
           {
            "colorbar": {
             "outlinewidth": 0,
             "ticks": ""
            },
            "type": "choropleth"
           }
          ],
          "contour": [
           {
            "colorbar": {
             "outlinewidth": 0,
             "ticks": ""
            },
            "colorscale": [
             [
              0,
              "#0d0887"
             ],
             [
              0.1111111111111111,
              "#46039f"
             ],
             [
              0.2222222222222222,
              "#7201a8"
             ],
             [
              0.3333333333333333,
              "#9c179e"
             ],
             [
              0.4444444444444444,
              "#bd3786"
             ],
             [
              0.5555555555555556,
              "#d8576b"
             ],
             [
              0.6666666666666666,
              "#ed7953"
             ],
             [
              0.7777777777777778,
              "#fb9f3a"
             ],
             [
              0.8888888888888888,
              "#fdca26"
             ],
             [
              1,
              "#f0f921"
             ]
            ],
            "type": "contour"
           }
          ],
          "contourcarpet": [
           {
            "colorbar": {
             "outlinewidth": 0,
             "ticks": ""
            },
            "type": "contourcarpet"
           }
          ],
          "heatmap": [
           {
            "colorbar": {
             "outlinewidth": 0,
             "ticks": ""
            },
            "colorscale": [
             [
              0,
              "#0d0887"
             ],
             [
              0.1111111111111111,
              "#46039f"
             ],
             [
              0.2222222222222222,
              "#7201a8"
             ],
             [
              0.3333333333333333,
              "#9c179e"
             ],
             [
              0.4444444444444444,
              "#bd3786"
             ],
             [
              0.5555555555555556,
              "#d8576b"
             ],
             [
              0.6666666666666666,
              "#ed7953"
             ],
             [
              0.7777777777777778,
              "#fb9f3a"
             ],
             [
              0.8888888888888888,
              "#fdca26"
             ],
             [
              1,
              "#f0f921"
             ]
            ],
            "type": "heatmap"
           }
          ],
          "heatmapgl": [
           {
            "colorbar": {
             "outlinewidth": 0,
             "ticks": ""
            },
            "colorscale": [
             [
              0,
              "#0d0887"
             ],
             [
              0.1111111111111111,
              "#46039f"
             ],
             [
              0.2222222222222222,
              "#7201a8"
             ],
             [
              0.3333333333333333,
              "#9c179e"
             ],
             [
              0.4444444444444444,
              "#bd3786"
             ],
             [
              0.5555555555555556,
              "#d8576b"
             ],
             [
              0.6666666666666666,
              "#ed7953"
             ],
             [
              0.7777777777777778,
              "#fb9f3a"
             ],
             [
              0.8888888888888888,
              "#fdca26"
             ],
             [
              1,
              "#f0f921"
             ]
            ],
            "type": "heatmapgl"
           }
          ],
          "histogram": [
           {
            "marker": {
             "pattern": {
              "fillmode": "overlay",
              "size": 10,
              "solidity": 0.2
             }
            },
            "type": "histogram"
           }
          ],
          "histogram2d": [
           {
            "colorbar": {
             "outlinewidth": 0,
             "ticks": ""
            },
            "colorscale": [
             [
              0,
              "#0d0887"
             ],
             [
              0.1111111111111111,
              "#46039f"
             ],
             [
              0.2222222222222222,
              "#7201a8"
             ],
             [
              0.3333333333333333,
              "#9c179e"
             ],
             [
              0.4444444444444444,
              "#bd3786"
             ],
             [
              0.5555555555555556,
              "#d8576b"
             ],
             [
              0.6666666666666666,
              "#ed7953"
             ],
             [
              0.7777777777777778,
              "#fb9f3a"
             ],
             [
              0.8888888888888888,
              "#fdca26"
             ],
             [
              1,
              "#f0f921"
             ]
            ],
            "type": "histogram2d"
           }
          ],
          "histogram2dcontour": [
           {
            "colorbar": {
             "outlinewidth": 0,
             "ticks": ""
            },
            "colorscale": [
             [
              0,
              "#0d0887"
             ],
             [
              0.1111111111111111,
              "#46039f"
             ],
             [
              0.2222222222222222,
              "#7201a8"
             ],
             [
              0.3333333333333333,
              "#9c179e"
             ],
             [
              0.4444444444444444,
              "#bd3786"
             ],
             [
              0.5555555555555556,
              "#d8576b"
             ],
             [
              0.6666666666666666,
              "#ed7953"
             ],
             [
              0.7777777777777778,
              "#fb9f3a"
             ],
             [
              0.8888888888888888,
              "#fdca26"
             ],
             [
              1,
              "#f0f921"
             ]
            ],
            "type": "histogram2dcontour"
           }
          ],
          "mesh3d": [
           {
            "colorbar": {
             "outlinewidth": 0,
             "ticks": ""
            },
            "type": "mesh3d"
           }
          ],
          "parcoords": [
           {
            "line": {
             "colorbar": {
              "outlinewidth": 0,
              "ticks": ""
             }
            },
            "type": "parcoords"
           }
          ],
          "pie": [
           {
            "automargin": true,
            "type": "pie"
           }
          ],
          "scatter": [
           {
            "marker": {
             "colorbar": {
              "outlinewidth": 0,
              "ticks": ""
             }
            },
            "type": "scatter"
           }
          ],
          "scatter3d": [
           {
            "line": {
             "colorbar": {
              "outlinewidth": 0,
              "ticks": ""
             }
            },
            "marker": {
             "colorbar": {
              "outlinewidth": 0,
              "ticks": ""
             }
            },
            "type": "scatter3d"
           }
          ],
          "scattercarpet": [
           {
            "marker": {
             "colorbar": {
              "outlinewidth": 0,
              "ticks": ""
             }
            },
            "type": "scattercarpet"
           }
          ],
          "scattergeo": [
           {
            "marker": {
             "colorbar": {
              "outlinewidth": 0,
              "ticks": ""
             }
            },
            "type": "scattergeo"
           }
          ],
          "scattergl": [
           {
            "marker": {
             "colorbar": {
              "outlinewidth": 0,
              "ticks": ""
             }
            },
            "type": "scattergl"
           }
          ],
          "scattermapbox": [
           {
            "marker": {
             "colorbar": {
              "outlinewidth": 0,
              "ticks": ""
             }
            },
            "type": "scattermapbox"
           }
          ],
          "scatterpolar": [
           {
            "marker": {
             "colorbar": {
              "outlinewidth": 0,
              "ticks": ""
             }
            },
            "type": "scatterpolar"
           }
          ],
          "scatterpolargl": [
           {
            "marker": {
             "colorbar": {
              "outlinewidth": 0,
              "ticks": ""
             }
            },
            "type": "scatterpolargl"
           }
          ],
          "scatterternary": [
           {
            "marker": {
             "colorbar": {
              "outlinewidth": 0,
              "ticks": ""
             }
            },
            "type": "scatterternary"
           }
          ],
          "surface": [
           {
            "colorbar": {
             "outlinewidth": 0,
             "ticks": ""
            },
            "colorscale": [
             [
              0,
              "#0d0887"
             ],
             [
              0.1111111111111111,
              "#46039f"
             ],
             [
              0.2222222222222222,
              "#7201a8"
             ],
             [
              0.3333333333333333,
              "#9c179e"
             ],
             [
              0.4444444444444444,
              "#bd3786"
             ],
             [
              0.5555555555555556,
              "#d8576b"
             ],
             [
              0.6666666666666666,
              "#ed7953"
             ],
             [
              0.7777777777777778,
              "#fb9f3a"
             ],
             [
              0.8888888888888888,
              "#fdca26"
             ],
             [
              1,
              "#f0f921"
             ]
            ],
            "type": "surface"
           }
          ],
          "table": [
           {
            "cells": {
             "fill": {
              "color": "#EBF0F8"
             },
             "line": {
              "color": "white"
             }
            },
            "header": {
             "fill": {
              "color": "#C8D4E3"
             },
             "line": {
              "color": "white"
             }
            },
            "type": "table"
           }
          ]
         },
         "layout": {
          "annotationdefaults": {
           "arrowcolor": "#2a3f5f",
           "arrowhead": 0,
           "arrowwidth": 1
          },
          "autotypenumbers": "strict",
          "coloraxis": {
           "colorbar": {
            "outlinewidth": 0,
            "ticks": ""
           }
          },
          "colorscale": {
           "diverging": [
            [
             0,
             "#8e0152"
            ],
            [
             0.1,
             "#c51b7d"
            ],
            [
             0.2,
             "#de77ae"
            ],
            [
             0.3,
             "#f1b6da"
            ],
            [
             0.4,
             "#fde0ef"
            ],
            [
             0.5,
             "#f7f7f7"
            ],
            [
             0.6,
             "#e6f5d0"
            ],
            [
             0.7,
             "#b8e186"
            ],
            [
             0.8,
             "#7fbc41"
            ],
            [
             0.9,
             "#4d9221"
            ],
            [
             1,
             "#276419"
            ]
           ],
           "sequential": [
            [
             0,
             "#0d0887"
            ],
            [
             0.1111111111111111,
             "#46039f"
            ],
            [
             0.2222222222222222,
             "#7201a8"
            ],
            [
             0.3333333333333333,
             "#9c179e"
            ],
            [
             0.4444444444444444,
             "#bd3786"
            ],
            [
             0.5555555555555556,
             "#d8576b"
            ],
            [
             0.6666666666666666,
             "#ed7953"
            ],
            [
             0.7777777777777778,
             "#fb9f3a"
            ],
            [
             0.8888888888888888,
             "#fdca26"
            ],
            [
             1,
             "#f0f921"
            ]
           ],
           "sequentialminus": [
            [
             0,
             "#0d0887"
            ],
            [
             0.1111111111111111,
             "#46039f"
            ],
            [
             0.2222222222222222,
             "#7201a8"
            ],
            [
             0.3333333333333333,
             "#9c179e"
            ],
            [
             0.4444444444444444,
             "#bd3786"
            ],
            [
             0.5555555555555556,
             "#d8576b"
            ],
            [
             0.6666666666666666,
             "#ed7953"
            ],
            [
             0.7777777777777778,
             "#fb9f3a"
            ],
            [
             0.8888888888888888,
             "#fdca26"
            ],
            [
             1,
             "#f0f921"
            ]
           ]
          },
          "colorway": [
           "#636efa",
           "#EF553B",
           "#00cc96",
           "#ab63fa",
           "#FFA15A",
           "#19d3f3",
           "#FF6692",
           "#B6E880",
           "#FF97FF",
           "#FECB52"
          ],
          "font": {
           "color": "#2a3f5f"
          },
          "geo": {
           "bgcolor": "white",
           "lakecolor": "white",
           "landcolor": "#E5ECF6",
           "showlakes": true,
           "showland": true,
           "subunitcolor": "white"
          },
          "hoverlabel": {
           "align": "left"
          },
          "hovermode": "closest",
          "mapbox": {
           "style": "light"
          },
          "paper_bgcolor": "white",
          "plot_bgcolor": "#E5ECF6",
          "polar": {
           "angularaxis": {
            "gridcolor": "white",
            "linecolor": "white",
            "ticks": ""
           },
           "bgcolor": "#E5ECF6",
           "radialaxis": {
            "gridcolor": "white",
            "linecolor": "white",
            "ticks": ""
           }
          },
          "scene": {
           "xaxis": {
            "backgroundcolor": "#E5ECF6",
            "gridcolor": "white",
            "gridwidth": 2,
            "linecolor": "white",
            "showbackground": true,
            "ticks": "",
            "zerolinecolor": "white"
           },
           "yaxis": {
            "backgroundcolor": "#E5ECF6",
            "gridcolor": "white",
            "gridwidth": 2,
            "linecolor": "white",
            "showbackground": true,
            "ticks": "",
            "zerolinecolor": "white"
           },
           "zaxis": {
            "backgroundcolor": "#E5ECF6",
            "gridcolor": "white",
            "gridwidth": 2,
            "linecolor": "white",
            "showbackground": true,
            "ticks": "",
            "zerolinecolor": "white"
           }
          },
          "shapedefaults": {
           "line": {
            "color": "#2a3f5f"
           }
          },
          "ternary": {
           "aaxis": {
            "gridcolor": "white",
            "linecolor": "white",
            "ticks": ""
           },
           "baxis": {
            "gridcolor": "white",
            "linecolor": "white",
            "ticks": ""
           },
           "bgcolor": "#E5ECF6",
           "caxis": {
            "gridcolor": "white",
            "linecolor": "white",
            "ticks": ""
           }
          },
          "title": {
           "x": 0.05
          },
          "xaxis": {
           "automargin": true,
           "gridcolor": "white",
           "linecolor": "white",
           "ticks": "",
           "title": {
            "standoff": 15
           },
           "zerolinecolor": "white",
           "zerolinewidth": 2
          },
          "yaxis": {
           "automargin": true,
           "gridcolor": "white",
           "linecolor": "white",
           "ticks": "",
           "title": {
            "standoff": 15
           },
           "zerolinecolor": "white",
           "zerolinewidth": 2
          }
         }
        }
       }
      }
     },
     "metadata": {},
     "output_type": "display_data"
    }
   ],
   "source": [
    "# plot of percentage of NaN values in each column\n",
    "threshold = 0.8\n",
    "\n",
    "columns = df.columns\n",
    "nbObservations = df.shape[0]\n",
    "arrPercentageOfNan = []\n",
    "colsToRemove = []\n",
    "\n",
    "for label in columns:\n",
    "  percentage = len(df[df[label].isnull()]) / nbObservations\n",
    "\n",
    "  if percentage > threshold:\n",
    "    colsToRemove.append(label)\n",
    "  \n",
    "  arrPercentageOfNan.append(percentage)\n",
    "\n",
    "fig = go.Figure(data=[\n",
    "                      go.Scatter(x=columns, y=arrPercentageOfNan, mode=\"markers + lines\", name=\"Pourcentage des valeurs manquantes par colonne\"),\n",
    "                      go.Scatter(x=columns, y=[threshold for i in arrPercentageOfNan], name=\"Seuil\", line=dict(dash='dot'))\n",
    "])\n",
    "\n",
    "fig.show()"
   ]
  },
  {
   "cell_type": "markdown",
   "metadata": {},
   "source": [
    "* Dtypes changes"
   ]
  },
  {
   "cell_type": "code",
   "execution_count": 35,
   "metadata": {},
   "outputs": [],
   "source": [
    "cols_to_drop = ['siret siège','chiffre d\\'affaire 2014','site web','scanr','numéro de voie','type de voie','libellé de voie','complément d\\'adresse','code de la région (avant 2016)','région (avant 2016)']\n",
    "df1 = df.drop(labels=colsToRemove,axis=1)\n",
    "df1 = df1.drop(labels=cols_to_drop,axis=1)"
   ]
  },
  {
   "cell_type": "code",
   "execution_count": 37,
   "metadata": {},
   "outputs": [],
   "source": [
    "df1.to_csv('../Data/entreprise_RD_v1.csv')"
   ]
  }
 ],
 "metadata": {
  "interpreter": {
   "hash": "dda3661be42a90c2914851a902f8bf069f8a45cb7c52ba55eec2e345667c0672"
  },
  "kernelspec": {
   "display_name": "Python 3.9.7 64-bit",
   "name": "python3"
  },
  "language_info": {
   "codemirror_mode": {
    "name": "ipython",
    "version": 3
   },
   "file_extension": ".py",
   "mimetype": "text/x-python",
   "name": "python",
   "nbconvert_exporter": "python",
   "pygments_lexer": "ipython3",
   "version": "3.9.7"
  },
  "orig_nbformat": 4
 },
 "nbformat": 4,
 "nbformat_minor": 2
}
